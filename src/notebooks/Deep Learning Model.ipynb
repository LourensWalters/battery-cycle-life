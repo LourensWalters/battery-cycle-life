{
 "cells": [
  {
   "cell_type": "markdown",
   "metadata": {
    "pycharm": {
     "name": "#%% md\n"
    }
   },
   "source": [
    "# Battery life cycle prediction - deep learning model"
   ]
  },
  {
   "cell_type": "code",
   "execution_count": 1,
   "outputs": [],
   "source": [
    "import pandas as pd\n",
    "import numpy as np\n",
    "from sklearn.linear_model import ElasticNet, LinearRegression, LogisticRegression\n",
    "from sklearn.model_selection import GridSearchCV\n",
    "from sklearn.metrics import mean_squared_error, accuracy_score\n",
    "import pickle\n",
    "import matplotlib.pyplot as plt\n",
    "import gc\n",
    "from pathlib import Path\n",
    "from IPython.display import display\n",
    "\n",
    "import src.constants as cst\n",
    "import src.features.rebuilding_features as rf\n",
    "import src.models.train_model as tm\n",
    "#from src.data.data_class import BatteryData\n",
    "#from src.data.load_data import DataLoader\n",
    "#from src.data.wrangle_data import DataWrangler\n",
    "\n",
    "#from rebuilding_features import load_batches_to_dict\n",
    "from src.visualization.helpers import print_dict_keys\n",
    "from os.path import join\n",
    "import src.models.data_pipeline as dp\n",
    "\n",
    "import tensorflow as tf\n",
    "import pandas as pd\n",
    "import seaborn as sns\n",
    "from matplotlib import style\n",
    "import itertools\n",
    "import warnings\n",
    "import json\n",
    "import seaborn as sns\n",
    "import src.constants as cst\n",
    "\n",
    "import src.models.data_pipeline as dp  # TODO: Have to refactor this code out of this class.\n",
    "import src.models.split_model as split_model\n",
    "import src.models.full_cnn_model as full_cnn_model\n",
    "from src.models.callbacks import CustomCheckpoints\n",
    "\n",
    "warnings.filterwarnings('ignore')\n"
   ],
   "metadata": {
    "collapsed": false,
    "pycharm": {
     "name": "#%%\n"
    }
   }
  },
  {
   "cell_type": "code",
   "execution_count": 2,
   "outputs": [],
   "source": [
    "physical_devices = tf.config.list_physical_devices('GPU')\n",
    "try:\n",
    "    tf.config.experimental.set_memory_growth(physical_devices[0], True)\n",
    "except:\n",
    "    # Invalid device or cannot modify virtual devices once initialized.\n",
    "    pass"
   ],
   "metadata": {
    "collapsed": false,
    "pycharm": {
     "name": "#%%\n"
    }
   }
  },
  {
   "cell_type": "code",
   "execution_count": 3,
   "outputs": [],
   "source": [
    "config = tf.compat.v1.ConfigProto()\n",
    "config.gpu_options.allow_growth = True\n",
    "config.log_device_placement = True\n",
    "#session = tf.compat.v1.Session(config=config)\n",
    "#tf.compat.v1.keras.backend.set_session(session)\n",
    "import os\n",
    "from pandas import datetime\n",
    "\n",
    "DATA_DIR = join(\"../../data/external\")\n"
   ],
   "metadata": {
    "collapsed": false,
    "pycharm": {
     "name": "#%%\n"
    }
   }
  },
  {
   "cell_type": "code",
   "execution_count": 4,
   "outputs": [
    {
     "name": "stdout",
     "output_type": "stream",
     "text": [
      "[]\n"
     ]
    }
   ],
   "source": [
    "print (physical_devices)"
   ],
   "metadata": {
    "collapsed": false,
    "pycharm": {
     "name": "#%%\n"
    }
   }
  },
  {
   "cell_type": "code",
   "execution_count": 5,
   "outputs": [],
   "source": [
    "def calculate_steps_per_epoch(data_dir, dataset_config):\n",
    "    temp_dataset = dp.create_dataset(data_dir=data_dir,\n",
    "                                     window_size=dataset_config[\"window_size\"],\n",
    "                                     shift=dataset_config[\"shift\"],\n",
    "                                     stride=dataset_config[\"stride\"],\n",
    "                                     batch_size=dataset_config[\"batch_size\"],\n",
    "                                     repeat=False)\n",
    "    steps_per_epoch = 0\n",
    "    for batch in temp_dataset:\n",
    "        steps_per_epoch += 1\n",
    "    return steps_per_epoch\n",
    "\n",
    "def get_tboard_dir():\n",
    "    run_timestr = datetime.now().strftime(\"%Y%m%d-%H%M%S\")\n",
    "    tboard_dir = os.path.join(cst.TENSORBOARD_DIR, \"jobs\", run_timestr)\n",
    "    return tboard_dir"
   ],
   "metadata": {
    "collapsed": false,
    "pycharm": {
     "name": "#%%\n"
    }
   }
  },
  {
   "cell_type": "markdown",
   "source": [
    "# Deep Learning model"
   ],
   "metadata": {
    "collapsed": false,
    "pycharm": {
     "name": "#%% md\n"
    }
   }
  },
  {
   "cell_type": "markdown",
   "source": [
    "We build a deep learning model by\n"
   ],
   "metadata": {
    "collapsed": false,
    "pycharm": {
     "name": "#%% md\n"
    }
   }
  },
  {
   "cell_type": "code",
   "execution_count": 6,
   "outputs": [],
   "source": [
    "args = tm.get_args()\n",
    "#model_trainer = tm.ModelTrainer(None, args)\n",
    "#model_trainer.train_and_evaluate()"
   ],
   "metadata": {
    "collapsed": false,
    "pycharm": {
     "name": "#%%\n"
    }
   }
  },
  {
   "cell_type": "code",
   "execution_count": 7,
   "outputs": [
    {
     "name": "stdout",
     "output_type": "stream",
     "text": [
      "Graph\\jobs\\20220502-084030\n",
      "Using split model!\n",
      "Model: \"model\"\n",
      "__________________________________________________________________________________________________\n",
      "Layer (type)                    Output Shape         Param #     Connected to                     \n",
      "==================================================================================================\n",
      "Qdlin (InputLayer)              [(None, 100, 1000, 1 0                                            \n",
      "__________________________________________________________________________________________________\n",
      "Tdlin (InputLayer)              [(None, 100, 1000, 1 0                                            \n",
      "__________________________________________________________________________________________________\n",
      "detail_concat (Concatenate)     (None, 100, 1000, 2) 0           Qdlin[0][0]                      \n",
      "                                                                 Tdlin[0][0]                      \n",
      "__________________________________________________________________________________________________\n",
      "convolution (TimeDistributed)   (None, 100, 334, 32) 608         detail_concat[0][0]              \n",
      "__________________________________________________________________________________________________\n",
      "conv_pool (TimeDistributed)     (None, 100, 167, 32) 0           convolution[0][0]                \n",
      "__________________________________________________________________________________________________\n",
      "conv2 (TimeDistributed)         (None, 100, 56, 64)  18496       conv_pool[0][0]                  \n",
      "__________________________________________________________________________________________________\n",
      "pool2 (TimeDistributed)         (None, 100, 28, 64)  0           conv2[0][0]                      \n",
      "__________________________________________________________________________________________________\n",
      "conv3 (TimeDistributed)         (None, 100, 10, 128) 73856       pool2[0][0]                      \n",
      "__________________________________________________________________________________________________\n",
      "pool3 (TimeDistributed)         (None, 100, 5, 128)  0           conv3[0][0]                      \n",
      "__________________________________________________________________________________________________\n",
      "convolution_flat (TimeDistribut (None, 100, 640)     0           pool3[0][0]                      \n",
      "__________________________________________________________________________________________________\n",
      "dropout_cnn (TimeDistributed)   (None, 100, 640)     0           convolution_flat[0][0]           \n",
      "__________________________________________________________________________________________________\n",
      "IR (InputLayer)                 [(None, 100, 1)]     0                                            \n",
      "__________________________________________________________________________________________________\n",
      "Discharge_time (InputLayer)     [(None, 100, 1)]     0                                            \n",
      "__________________________________________________________________________________________________\n",
      "QD (InputLayer)                 [(None, 100, 1)]     0                                            \n",
      "__________________________________________________________________________________________________\n",
      "all_concat (Concatenate)        (None, 100, 643)     0           dropout_cnn[0][0]                \n",
      "                                                                 IR[0][0]                         \n",
      "                                                                 Discharge_time[0][0]             \n",
      "                                                                 QD[0][0]                         \n",
      "__________________________________________________________________________________________________\n",
      "recurrent (LSTM)                (None, 128)          395264      all_concat[0][0]                 \n",
      "__________________________________________________________________________________________________\n",
      "dropout_lstm (Dropout)          (None, 128)          0           recurrent[0][0]                  \n",
      "__________________________________________________________________________________________________\n",
      "hidden (Dense)                  (None, 32)           4128        dropout_lstm[0][0]               \n",
      "__________________________________________________________________________________________________\n",
      "output (Dense)                  (None, 2)            66          hidden[0][0]                     \n",
      "==================================================================================================\n",
      "Total params: 492,418\n",
      "Trainable params: 492,418\n",
      "Non-trainable params: 0\n",
      "__________________________________________________________________________________________________\n",
      "Epoch 1/70\n",
      "148/148 - 84s - loss: 0.0207 - mae_current_cycle: 240.7307 - mae_remaining_cycles: 181.3541 - val_loss: 0.0323 - val_mae_current_cycle: 275.5483 - val_mae_remaining_cycles: 183.7414\n",
      "Epoch 2/70\n",
      "148/148 - 85s - loss: 0.0142 - mae_current_cycle: 204.9993 - mae_remaining_cycles: 127.8328 - val_loss: 0.0461 - val_mae_current_cycle: 548.2615 - val_mae_remaining_cycles: 155.9356\n",
      "Epoch 3/70\n",
      "148/148 - 86s - loss: 0.0170 - mae_current_cycle: 249.1181 - mae_remaining_cycles: 118.3040 - val_loss: 0.0253 - val_mae_current_cycle: 306.6033 - val_mae_remaining_cycles: 140.4182\n",
      "Epoch 4/70\n",
      "148/148 - 91s - loss: 0.0166 - mae_current_cycle: 239.9058 - mae_remaining_cycles: 124.2643 - val_loss: 0.0241 - val_mae_current_cycle: 281.5785 - val_mae_remaining_cycles: 152.6680\n",
      "Epoch 5/70\n",
      "148/148 - 97s - loss: 0.0145 - mae_current_cycle: 231.1475 - mae_remaining_cycles: 105.2953 - val_loss: 0.0255 - val_mae_current_cycle: 385.9052 - val_mae_remaining_cycles: 112.3500\n",
      "Epoch 6/70\n",
      "148/148 - 109s - loss: 0.0164 - mae_current_cycle: 244.6746 - mae_remaining_cycles: 112.4401 - val_loss: 0.0256 - val_mae_current_cycle: 268.6890 - val_mae_remaining_cycles: 137.3297\n",
      "Epoch 7/70\n",
      "148/148 - 108s - loss: 0.0124 - mae_current_cycle: 206.4016 - mae_remaining_cycles: 102.0022 - val_loss: 0.0532 - val_mae_current_cycle: 589.6840 - val_mae_remaining_cycles: 268.9850\n",
      "Epoch 8/70\n",
      "148/148 - 113s - loss: 0.0163 - mae_current_cycle: 242.6752 - mae_remaining_cycles: 115.4447 - val_loss: 0.0494 - val_mae_current_cycle: 578.4706 - val_mae_remaining_cycles: 144.4666\n",
      "Epoch 9/70\n",
      "148/148 - 111s - loss: 0.0215 - mae_current_cycle: 216.8692 - mae_remaining_cycles: 237.0983 - val_loss: 0.0530 - val_mae_current_cycle: 639.7490 - val_mae_remaining_cycles: 114.1506\n",
      "Epoch 10/70\n",
      "148/148 - 109s - loss: 0.0186 - mae_current_cycle: 269.8307 - mae_remaining_cycles: 121.8742 - val_loss: 0.0259 - val_mae_current_cycle: 277.5178 - val_mae_remaining_cycles: 135.0958\n",
      "Epoch 11/70\n",
      "148/148 - 107s - loss: 0.0165 - mae_current_cycle: 242.0969 - mae_remaining_cycles: 117.4665 - val_loss: 0.0248 - val_mae_current_cycle: 283.4285 - val_mae_remaining_cycles: 136.4569\n",
      "Epoch 12/70\n",
      "148/148 - 107s - loss: 0.0153 - mae_current_cycle: 231.9811 - mae_remaining_cycles: 112.0568 - val_loss: 0.0251 - val_mae_current_cycle: 296.2322 - val_mae_remaining_cycles: 136.8439\n",
      "Epoch 13/70\n",
      "148/148 - 105s - loss: 0.0150 - mae_current_cycle: 233.1599 - mae_remaining_cycles: 109.2130 - val_loss: 0.0230 - val_mae_current_cycle: 332.7849 - val_mae_remaining_cycles: 131.4193\n",
      "Epoch 14/70\n",
      "148/148 - 106s - loss: 0.0154 - mae_current_cycle: 233.5169 - mae_remaining_cycles: 110.5452 - val_loss: 0.0243 - val_mae_current_cycle: 292.8595 - val_mae_remaining_cycles: 128.1939\n",
      "Epoch 15/70\n",
      "148/148 - 105s - loss: 0.0151 - mae_current_cycle: 232.7016 - mae_remaining_cycles: 108.8823 - val_loss: 0.0268 - val_mae_current_cycle: 275.3207 - val_mae_remaining_cycles: 147.0123\n",
      "Epoch 16/70\n",
      "148/148 - 103s - loss: 0.0157 - mae_current_cycle: 237.1682 - mae_remaining_cycles: 108.7931 - val_loss: 0.0258 - val_mae_current_cycle: 300.3467 - val_mae_remaining_cycles: 162.0551\n",
      "Epoch 17/70\n",
      "148/148 - 102s - loss: 0.0164 - mae_current_cycle: 236.8091 - mae_remaining_cycles: 118.9084 - val_loss: 0.0224 - val_mae_current_cycle: 283.1159 - val_mae_remaining_cycles: 115.6750\n",
      "Epoch 18/70\n",
      "148/148 - 103s - loss: 0.0156 - mae_current_cycle: 236.2687 - mae_remaining_cycles: 108.9462 - val_loss: 0.0216 - val_mae_current_cycle: 325.0317 - val_mae_remaining_cycles: 118.3686\n",
      "Epoch 19/70\n",
      "148/148 - 105s - loss: 0.0134 - mae_current_cycle: 224.5323 - mae_remaining_cycles: 94.4721 - val_loss: 0.0490 - val_mae_current_cycle: 573.5411 - val_mae_remaining_cycles: 205.8135\n",
      "Epoch 20/70\n",
      "148/148 - 106s - loss: 0.0187 - mae_current_cycle: 259.1636 - mae_remaining_cycles: 132.2384 - val_loss: 0.0249 - val_mae_current_cycle: 269.2453 - val_mae_remaining_cycles: 128.1957\n",
      "Epoch 21/70\n",
      "148/148 - 105s - loss: 0.0120 - mae_current_cycle: 194.1920 - mae_remaining_cycles: 106.6364 - val_loss: 0.0725 - val_mae_current_cycle: 747.0048 - val_mae_remaining_cycles: 130.3637\n",
      "Epoch 22/70\n",
      "148/148 - 105s - loss: 0.0166 - mae_current_cycle: 249.3495 - mae_remaining_cycles: 119.4272 - val_loss: 0.0265 - val_mae_current_cycle: 397.8099 - val_mae_remaining_cycles: 118.4508\n",
      "Epoch 23/70\n",
      "148/148 - 104s - loss: 0.0160 - mae_current_cycle: 247.7438 - mae_remaining_cycles: 102.8630 - val_loss: 0.0288 - val_mae_current_cycle: 268.7988 - val_mae_remaining_cycles: 146.2706\n",
      "Epoch 24/70\n",
      "148/148 - 106s - loss: 0.0155 - mae_current_cycle: 233.3071 - mae_remaining_cycles: 110.4360 - val_loss: 0.0297 - val_mae_current_cycle: 269.7279 - val_mae_remaining_cycles: 164.5014\n",
      "Epoch 25/70\n",
      "148/148 - 104s - loss: 0.0155 - mae_current_cycle: 220.2998 - mae_remaining_cycles: 121.8151 - val_loss: 0.0310 - val_mae_current_cycle: 269.7470 - val_mae_remaining_cycles: 161.4323\n",
      "Epoch 26/70\n",
      "148/148 - 104s - loss: 0.0162 - mae_current_cycle: 237.9066 - mae_remaining_cycles: 115.3686 - val_loss: 0.0249 - val_mae_current_cycle: 299.4714 - val_mae_remaining_cycles: 147.5434\n",
      "Epoch 27/70\n",
      "148/148 - 105s - loss: 0.0137 - mae_current_cycle: 216.9497 - mae_remaining_cycles: 112.8696 - val_loss: 0.0305 - val_mae_current_cycle: 432.1697 - val_mae_remaining_cycles: 127.1460\n",
      "Epoch 28/70\n",
      "148/148 - 104s - loss: 0.0171 - mae_current_cycle: 252.1407 - mae_remaining_cycles: 120.7995 - val_loss: 0.0265 - val_mae_current_cycle: 297.1989 - val_mae_remaining_cycles: 172.8044\n",
      "Epoch 29/70\n",
      "148/148 - 105s - loss: 0.0153 - mae_current_cycle: 225.5553 - mae_remaining_cycles: 117.8184 - val_loss: 0.0255 - val_mae_current_cycle: 289.8656 - val_mae_remaining_cycles: 145.1413\n",
      "Epoch 30/70\n",
      "148/148 - 108s - loss: 0.0146 - mae_current_cycle: 220.4609 - mae_remaining_cycles: 114.2944 - val_loss: 0.0326 - val_mae_current_cycle: 467.0482 - val_mae_remaining_cycles: 141.7238\n",
      "Epoch 31/70\n",
      "148/148 - 107s - loss: 0.0166 - mae_current_cycle: 255.3362 - mae_remaining_cycles: 105.8275 - val_loss: 0.0284 - val_mae_current_cycle: 269.2046 - val_mae_remaining_cycles: 170.0352\n",
      "Epoch 32/70\n",
      "148/148 - 106s - loss: 0.0148 - mae_current_cycle: 225.4830 - mae_remaining_cycles: 99.9827 - val_loss: 0.0350 - val_mae_current_cycle: 445.1317 - val_mae_remaining_cycles: 185.1212\n",
      "Epoch 33/70\n",
      "148/148 - 103s - loss: 0.0162 - mae_current_cycle: 227.4029 - mae_remaining_cycles: 124.3045 - val_loss: 0.0332 - val_mae_current_cycle: 458.4108 - val_mae_remaining_cycles: 174.8824\n",
      "Epoch 34/70\n",
      "148/148 - 109s - loss: 0.0179 - mae_current_cycle: 257.8536 - mae_remaining_cycles: 122.8677 - val_loss: 0.0228 - val_mae_current_cycle: 338.6059 - val_mae_remaining_cycles: 116.6127\n",
      "Epoch 35/70\n",
      "148/148 - 111s - loss: 0.0152 - mae_current_cycle: 236.4350 - mae_remaining_cycles: 110.6260 - val_loss: 0.0235 - val_mae_current_cycle: 349.8904 - val_mae_remaining_cycles: 119.9033\n",
      "Epoch 36/70\n",
      "148/148 - 107s - loss: 0.0156 - mae_current_cycle: 248.3519 - mae_remaining_cycles: 106.1060 - val_loss: 0.0292 - val_mae_current_cycle: 267.1660 - val_mae_remaining_cycles: 155.7817\n",
      "Epoch 37/70\n",
      "148/148 - 107s - loss: 0.0148 - mae_current_cycle: 222.4796 - mae_remaining_cycles: 99.4534 - val_loss: 0.0273 - val_mae_current_cycle: 384.3385 - val_mae_remaining_cycles: 161.1737\n",
      "Epoch 38/70\n",
      "148/148 - 105s - loss: 0.0163 - mae_current_cycle: 233.8245 - mae_remaining_cycles: 130.3925 - val_loss: 0.0242 - val_mae_current_cycle: 325.5441 - val_mae_remaining_cycles: 136.3476\n",
      "Epoch 39/70\n",
      "148/148 - 110s - loss: 0.0157 - mae_current_cycle: 237.7726 - mae_remaining_cycles: 110.9594 - val_loss: 0.0225 - val_mae_current_cycle: 306.8999 - val_mae_remaining_cycles: 132.0361\n",
      "Epoch 40/70\n",
      "148/148 - 113s - loss: 0.0159 - mae_current_cycle: 242.5884 - mae_remaining_cycles: 112.6664 - val_loss: 0.0239 - val_mae_current_cycle: 306.8026 - val_mae_remaining_cycles: 135.8114\n",
      "Epoch 41/70\n",
      "148/148 - 110s - loss: 0.0156 - mae_current_cycle: 241.5884 - mae_remaining_cycles: 106.1690 - val_loss: 0.0248 - val_mae_current_cycle: 296.4113 - val_mae_remaining_cycles: 154.5098\n",
      "Epoch 42/70\n",
      "148/148 - 109s - loss: 0.0158 - mae_current_cycle: 228.8175 - mae_remaining_cycles: 112.9839 - val_loss: 0.0277 - val_mae_current_cycle: 357.1947 - val_mae_remaining_cycles: 184.1122\n",
      "Epoch 43/70\n",
      "148/148 - 111s - loss: 0.0167 - mae_current_cycle: 255.2939 - mae_remaining_cycles: 112.3337 - val_loss: 0.0273 - val_mae_current_cycle: 270.2832 - val_mae_remaining_cycles: 146.5343\n",
      "Epoch 44/70\n",
      "148/148 - 111s - loss: 0.0154 - mae_current_cycle: 222.5877 - mae_remaining_cycles: 107.6165 - val_loss: 0.0253 - val_mae_current_cycle: 294.1959 - val_mae_remaining_cycles: 136.3584\n",
      "Epoch 45/70\n",
      "148/148 - 109s - loss: 0.0140 - mae_current_cycle: 228.1604 - mae_remaining_cycles: 98.4335 - val_loss: 0.0478 - val_mae_current_cycle: 590.3758 - val_mae_remaining_cycles: 112.2035\n",
      "Epoch 46/70\n",
      "148/148 - 107s - loss: 0.0179 - mae_current_cycle: 241.1688 - mae_remaining_cycles: 142.5818 - val_loss: 0.0336 - val_mae_current_cycle: 369.2358 - val_mae_remaining_cycles: 255.5822\n",
      "Epoch 47/70\n",
      "148/148 - 104s - loss: 0.0163 - mae_current_cycle: 250.2060 - mae_remaining_cycles: 112.0775 - val_loss: 0.0280 - val_mae_current_cycle: 325.1933 - val_mae_remaining_cycles: 194.3553\n",
      "Epoch 48/70\n",
      "148/148 - 105s - loss: 0.0167 - mae_current_cycle: 249.5756 - mae_remaining_cycles: 117.2897 - val_loss: 0.0281 - val_mae_current_cycle: 268.9321 - val_mae_remaining_cycles: 157.0842\n",
      "Epoch 49/70\n",
      "148/148 - 107s - loss: 0.0160 - mae_current_cycle: 239.5056 - mae_remaining_cycles: 108.2215 - val_loss: 0.0278 - val_mae_current_cycle: 274.1164 - val_mae_remaining_cycles: 178.2226\n",
      "Epoch 50/70\n",
      "148/148 - 105s - loss: 0.0162 - mae_current_cycle: 247.6570 - mae_remaining_cycles: 113.2471 - val_loss: 0.0278 - val_mae_current_cycle: 269.7889 - val_mae_remaining_cycles: 156.9671\n",
      "Epoch 51/70\n",
      "148/148 - 104s - loss: 0.0158 - mae_current_cycle: 229.4468 - mae_remaining_cycles: 113.1263 - val_loss: 0.0229 - val_mae_current_cycle: 293.0124 - val_mae_remaining_cycles: 124.0057\n",
      "Epoch 52/70\n",
      "148/148 - 105s - loss: 0.0155 - mae_current_cycle: 234.9589 - mae_remaining_cycles: 108.4375 - val_loss: 0.0231 - val_mae_current_cycle: 274.5062 - val_mae_remaining_cycles: 131.1939\n",
      "Epoch 53/70\n",
      "148/148 - 104s - loss: 0.0175 - mae_current_cycle: 235.5234 - mae_remaining_cycles: 117.0884 - val_loss: 0.0258 - val_mae_current_cycle: 277.6832 - val_mae_remaining_cycles: 144.5976\n",
      "Epoch 54/70\n",
      "148/148 - 106s - loss: 0.0153 - mae_current_cycle: 224.0230 - mae_remaining_cycles: 112.9602 - val_loss: 0.0253 - val_mae_current_cycle: 350.8221 - val_mae_remaining_cycles: 152.0827\n",
      "Epoch 55/70\n",
      "148/148 - 109s - loss: 0.0151 - mae_current_cycle: 221.6557 - mae_remaining_cycles: 116.4649 - val_loss: 0.0339 - val_mae_current_cycle: 436.8187 - val_mae_remaining_cycles: 200.6953\n",
      "Epoch 56/70\n",
      "148/148 - 107s - loss: 0.0164 - mae_current_cycle: 250.4881 - mae_remaining_cycles: 106.1235 - val_loss: 0.0224 - val_mae_current_cycle: 340.0443 - val_mae_remaining_cycles: 122.1459\n",
      "Epoch 57/70\n",
      "148/148 - 107s - loss: 0.0166 - mae_current_cycle: 255.1878 - mae_remaining_cycles: 106.7692 - val_loss: 0.0270 - val_mae_current_cycle: 272.9030 - val_mae_remaining_cycles: 165.4266\n",
      "Epoch 58/70\n",
      "148/148 - 106s - loss: 0.0143 - mae_current_cycle: 212.8802 - mae_remaining_cycles: 102.8629 - val_loss: 0.0280 - val_mae_current_cycle: 408.0193 - val_mae_remaining_cycles: 136.5477\n",
      "Epoch 59/70\n",
      "148/148 - 103s - loss: 0.0183 - mae_current_cycle: 264.0280 - mae_remaining_cycles: 120.4598 - val_loss: 0.0271 - val_mae_current_cycle: 271.4079 - val_mae_remaining_cycles: 149.1655\n",
      "Epoch 60/70\n",
      "148/148 - 104s - loss: 0.0154 - mae_current_cycle: 225.5037 - mae_remaining_cycles: 105.4202 - val_loss: 0.0219 - val_mae_current_cycle: 319.9768 - val_mae_remaining_cycles: 121.8653\n",
      "Epoch 61/70\n",
      "148/148 - 103s - loss: 0.0159 - mae_current_cycle: 245.7857 - mae_remaining_cycles: 105.9085 - val_loss: 0.0258 - val_mae_current_cycle: 276.0507 - val_mae_remaining_cycles: 147.0454\n",
      "Epoch 62/70\n",
      "148/148 - 101s - loss: 0.0142 - mae_current_cycle: 223.6309 - mae_remaining_cycles: 92.1438 - val_loss: 0.0271 - val_mae_current_cycle: 402.9441 - val_mae_remaining_cycles: 135.1562\n",
      "Epoch 63/70\n",
      "148/148 - 105s - loss: 0.0176 - mae_current_cycle: 257.8834 - mae_remaining_cycles: 119.1241 - val_loss: 0.0260 - val_mae_current_cycle: 269.1837 - val_mae_remaining_cycles: 145.6674\n",
      "Epoch 64/70\n",
      "148/148 - 101s - loss: 0.0158 - mae_current_cycle: 232.4580 - mae_remaining_cycles: 109.3565 - val_loss: 0.0274 - val_mae_current_cycle: 277.6491 - val_mae_remaining_cycles: 156.5270\n",
      "Epoch 65/70\n",
      "148/148 - 101s - loss: 0.0154 - mae_current_cycle: 235.1298 - mae_remaining_cycles: 103.0382 - val_loss: 0.0228 - val_mae_current_cycle: 280.3700 - val_mae_remaining_cycles: 136.2695\n",
      "Epoch 66/70\n",
      "148/148 - 104s - loss: 0.0155 - mae_current_cycle: 236.3921 - mae_remaining_cycles: 114.3880 - val_loss: 0.0271 - val_mae_current_cycle: 273.8767 - val_mae_remaining_cycles: 155.1139\n",
      "Epoch 67/70\n",
      "148/148 - 105s - loss: 0.0155 - mae_current_cycle: 239.2620 - mae_remaining_cycles: 105.6899 - val_loss: 0.0256 - val_mae_current_cycle: 273.3372 - val_mae_remaining_cycles: 149.7817\n",
      "Epoch 68/70\n",
      "148/148 - 104s - loss: 0.0146 - mae_current_cycle: 233.8055 - mae_remaining_cycles: 100.8337 - val_loss: 0.0273 - val_mae_current_cycle: 269.5798 - val_mae_remaining_cycles: 169.9315\n",
      "Epoch 69/70\n",
      "148/148 - 109s - loss: 0.0148 - mae_current_cycle: 234.2482 - mae_remaining_cycles: 95.9584 - val_loss: 0.0256 - val_mae_current_cycle: 278.2304 - val_mae_remaining_cycles: 170.9661\n",
      "Epoch 70/70\n",
      "148/148 - 116s - loss: 0.0150 - mae_current_cycle: 236.3297 - mae_remaining_cycles: 102.3879 - val_loss: 0.0256 - val_mae_current_cycle: 268.2698 - val_mae_remaining_cycles: 148.8290\n"
     ]
    },
    {
     "name": "stderr",
     "output_type": "stream",
     "text": [
      "WARNING:absl:Found untraced functions such as lstm_cell_layer_call_fn, lstm_cell_layer_call_and_return_conditional_losses, clippy_layer_call_fn, clippy_layer_call_and_return_conditional_losses, lstm_cell_layer_call_fn while saving (showing 5 of 10). These functions will not be directly callable after loading.\n",
      "WARNING:absl:Found untraced functions such as lstm_cell_layer_call_fn, lstm_cell_layer_call_and_return_conditional_losses, clippy_layer_call_fn, clippy_layer_call_and_return_conditional_losses, lstm_cell_layer_call_fn while saving (showing 5 of 10). These functions will not be directly callable after loading.\n"
     ]
    },
    {
     "name": "stdout",
     "output_type": "stream",
     "text": [
      "INFO:tensorflow:Assets written to: Graph\\jobs\\20220502-084030\\checkpoints\\last_epoch_loss_0.025567419826984406\\assets\n"
     ]
    },
    {
     "name": "stderr",
     "output_type": "stream",
     "text": [
      "INFO:tensorflow:Assets written to: Graph\\jobs\\20220502-084030\\checkpoints\\last_epoch_loss_0.025567419826984406\\assets\n"
     ]
    }
   ],
   "source": [
    "scaling_factors = dp.load_scaling_factors()\n",
    "dataset_dir = cst.TEST_SET\n",
    "window_size = 20\n",
    "shift = 5\n",
    "stride = 1\n",
    "batch_size = 32\n",
    "hparams = None\n",
    "save_from = 80\n",
    "tboard = get_tboard_dir()\n",
    "\n",
    "print (tboard)\n",
    "\n",
    "dataset = dp.create_dataset(dataset_dir,\n",
    "                            window_size=window_size,\n",
    "                            shift=shift,  # Can vary during validation\n",
    "                            stride=stride,\n",
    "                            batch_size=batch_size,  # Can vary during validation\n",
    "                            cycle_length=1,  # To match original order (so no files get interleaved)\n",
    "                            num_parallel_calls=1,  # Has to be equal or below cycle_length\n",
    "                            shuffle=None,  # To match original order\n",
    "                            repeat=None)\n",
    "\n",
    "# Config datasets for consistent usage\n",
    "ds_config = dict(window_size=window_size,\n",
    "                 shift=shift,\n",
    "                 stride=stride,\n",
    "                 batch_size=batch_size)\n",
    "ds_train_path = cst.TRAIN_SET\n",
    "ds_val_path = cst.TEST_SET\n",
    "\n",
    "# create model\n",
    "if args.model == 'split_model':\n",
    "    print(\"Using split model!\")\n",
    "    model = split_model.create_keras_model(window_size=ds_config[\"window_size\"],\n",
    "                                           loss=args.loss,\n",
    "                                           hparams_config=hparams)\n",
    "if args.model == 'full_cnn_model':\n",
    "    print(\"Using full cnn model!\")\n",
    "    model = full_cnn_model.create_keras_model(window_size=ds_config[\"window_size\"],\n",
    "                                              loss=args.loss,\n",
    "                                              hparams_config=hparams)\n",
    "\n",
    "# Calculate steps_per_epoch_train, steps_per_epoch_test\n",
    "# This is needed, since for counting repeat has to be false\n",
    "steps_per_epoch_train = calculate_steps_per_epoch(ds_train_path, ds_config)\n",
    "\n",
    "steps_per_epoch_validate = calculate_steps_per_epoch(ds_val_path, ds_config)\n",
    "\n",
    "# load datasets\n",
    "dataset_train = dp.create_dataset(data_dir=ds_train_path,\n",
    "                                  window_size=ds_config[\"window_size\"],\n",
    "                                  shift=ds_config[\"shift\"],\n",
    "                                  stride=ds_config[\"stride\"],\n",
    "                                  batch_size=ds_config[\"batch_size\"])\n",
    "\n",
    "dataset_validate = dp.create_dataset(data_dir=ds_val_path,\n",
    "                                     window_size=ds_config[\"window_size\"],\n",
    "                                     shift=ds_config[\"shift\"],\n",
    "                                     stride=ds_config[\"stride\"],\n",
    "                                     batch_size=ds_config[\"batch_size\"])\n",
    "\n",
    "# if hparams is passed, we're running a HPO-job\n",
    "if hparams:\n",
    "    checkpoint_callback = CustomCheckpoints(save_last_only=True,\n",
    "                                            log_dir=tboard,\n",
    "                                            dataset_path=ds_val_path,\n",
    "                                            dataset_config=ds_config,\n",
    "                                            save_eval_plot=False)\n",
    "else:\n",
    "    checkpoint_callback = CustomCheckpoints(save_best_only=True,\n",
    "                                            start_epoch=save_from,\n",
    "                                            log_dir=tboard,\n",
    "                                            dataset_path=ds_val_path,\n",
    "                                            dataset_config=ds_config,\n",
    "                                            save_eval_plot=False)\n",
    "callbacks = [\n",
    "    tf.keras.callbacks.TensorBoard(log_dir=tboard,\n",
    "                                   histogram_freq=0,\n",
    "                                   write_graph=False,\n",
    "                                   ),\n",
    "    checkpoint_callback,\n",
    "]\n",
    "\n",
    "model.summary()\n",
    "\n",
    "# train model\n",
    "history = model.fit(\n",
    "    dataset_train,\n",
    "    epochs=70,\n",
    "    steps_per_epoch=steps_per_epoch_train,\n",
    "    validation_data=dataset_validate,\n",
    "    validation_steps=steps_per_epoch_validate,\n",
    "    verbose=2,\n",
    "    callbacks=callbacks)\n",
    "\n",
    "mae_current = min(history.history[\"val_mae_current_cycle\"])\n",
    "mae_remaining = min(history.history[\"val_mae_remaining_cycles\"])\n",
    "\n",
    "#return mae_current, mae_remaining"
   ],
   "metadata": {
    "collapsed": false,
    "pycharm": {
     "name": "#%%\n"
    }
   }
  },
  {
   "cell_type": "code",
   "execution_count": 7,
   "outputs": [],
   "source": [],
   "metadata": {
    "collapsed": false,
    "pycharm": {
     "name": "#%%\n"
    }
   }
  }
 ],
 "metadata": {
  "kernelspec": {
   "display_name": "Python 3",
   "language": "python",
   "name": "python3"
  },
  "language_info": {
   "codemirror_mode": {
    "name": "ipython",
    "version": 3
   },
   "file_extension": ".py",
   "mimetype": "text/x-python",
   "name": "python",
   "nbconvert_exporter": "python",
   "pygments_lexer": "ipython3",
   "version": "3.7.3"
  }
 },
 "nbformat": 4,
 "nbformat_minor": 2
}